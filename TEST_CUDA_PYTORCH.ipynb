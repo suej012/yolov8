{
 "cells": [
  {
   "cell_type": "code",
   "execution_count": 2,
   "id": "b38951cc",
   "metadata": {},
   "outputs": [
    {
     "name": "stdout",
     "output_type": "stream",
     "text": [
      "python_version: 3.12.3\n",
      "torch.__version__: 2.9.0.dev20250817+cu129\n",
      "CUDA available: True\n",
      "Number of GPUs: 1\n",
      "CUDA version: 12.9\n",
      "cuDNN version: 91002\n",
      "Device name: NVIDIA GeForce RTX 5080\n"
     ]
    }
   ],
   "source": [
    "import torch\n",
    "import platform\n",
    "import sys\n",
    "\n",
    "print(\"python_version:\", platform.python_version())\n",
    "print(\"torch.__version__:\", torch.__version__)\n",
    "print(\"CUDA available:\", torch.cuda.is_available())\n",
    "print(\"Number of GPUs:\", torch.cuda.device_count())\n",
    "\n",
    "if torch.cuda.is_available():\n",
    "    print(\"CUDA version:\", torch.version.cuda)\n",
    "    print(\"cuDNN version:\", torch.backends.cudnn.version())\n",
    "    print(\"Device name:\", torch.cuda.get_device_name(0))"
   ]
  },
  {
   "cell_type": "code",
   "execution_count": 3,
   "id": "104be58a",
   "metadata": {},
   "outputs": [
    {
     "name": "stdout",
     "output_type": "stream",
     "text": [
      "CUDA version: 12.9\n",
      "Compiled CUDA architectures: sm_70 sm_75 sm_80 sm_86 sm_90 sm_100 sm_120 compute_120\n",
      "CUDA available: True\n",
      "Device name: NVIDIA GeForce RTX 5080\n",
      "Tensor on CUDA: cuda:0\n"
     ]
    }
   ],
   "source": [
    "import torch\n",
    "print(\"CUDA version:\", torch.version.cuda)\n",
    "print(\"Compiled CUDA architectures:\", torch._C._cuda_getArchFlags())\n",
    "\n",
    "print(\"CUDA available:\", torch.cuda.is_available())\n",
    "print(\"Device name:\", torch.cuda.get_device_name(0))\n",
    "x = torch.randn(32, 3, 224, 224).cuda()\n",
    "print(\"Tensor on CUDA:\", x.device)"
   ]
  },
  {
   "cell_type": "code",
   "execution_count": 4,
   "id": "c2b03d1b",
   "metadata": {},
   "outputs": [
    {
     "data": {
      "text/plain": [
       "97"
      ]
     },
     "execution_count": 4,
     "metadata": {},
     "output_type": "execute_result"
    }
   ],
   "source": [
    "import gc\n",
    "\n",
    "del x\n",
    "torch.cuda.empty_cache()\n",
    "\n",
    "gc.collect()"
   ]
  }
 ],
 "metadata": {
  "kernelspec": {
   "display_name": "Python 3",
   "language": "python",
   "name": "python3"
  },
  "language_info": {
   "codemirror_mode": {
    "name": "ipython",
    "version": 3
   },
   "file_extension": ".py",
   "mimetype": "text/x-python",
   "name": "python",
   "nbconvert_exporter": "python",
   "pygments_lexer": "ipython3",
   "version": "3.12.3"
  }
 },
 "nbformat": 4,
 "nbformat_minor": 5
}
